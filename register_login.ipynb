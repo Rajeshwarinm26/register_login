{
  "nbformat": 4,
  "nbformat_minor": 0,
  "metadata": {
    "colab": {
      "name": "register_login",
      "provenance": [],
      "collapsed_sections": [],
      "authorship_tag": "ABX9TyM/qlsM+wBeb+lJmOIVb7V9",
      "include_colab_link": true
    },
    "kernelspec": {
      "name": "python3",
      "display_name": "Python 3"
    },
    "language_info": {
      "name": "python"
    }
  },
  "cells": [
    {
      "cell_type": "markdown",
      "metadata": {
        "id": "view-in-github",
        "colab_type": "text"
      },
      "source": [
        "<a href=\"https://colab.research.google.com/github/Rajeshwarinm26/register_login/blob/main/register_login.ipynb\" target=\"_parent\"><img src=\"https://colab.research.google.com/assets/colab-badge.svg\" alt=\"Open In Colab\"/></a>"
      ]
    },
    {
      "cell_type": "code",
      "execution_count": 22,
      "metadata": {
        "colab": {
          "base_uri": "https://localhost:8080/"
        },
        "id": "bEUJGssBgtk0",
        "outputId": "e57232b0-4fa4-4a4c-8618-9d991f798174"
      },
      "outputs": [
        {
          "output_type": "stream",
          "name": "stdout",
          "text": [
            "Please enter email: Raju26@gmail.com\n",
            "Enter the password: Sr@2426\n",
            "Password is valid\n",
            "Registration is Successful! \n",
            "Please enter email: Raju26@gmail.com\n",
            "Please enter the password: Sr@2426\n",
            "Please try again\n"
          ]
        },
        {
          "output_type": "execute_result",
          "data": {
            "text/plain": [
              "False"
            ]
          },
          "metadata": {},
          "execution_count": 22
        }
      ],
      "source": [
        "import csv\n",
        "import re\n",
        "\n",
        "def register():\n",
        "  with open(\"users.csv\",mode=\"a\",newline=\"\") as f:\n",
        "    writer=csv.writer(f,delimiter=\",\")\n",
        "    email=input(\"Please enter email: \")\n",
        "\n",
        "    flag = 0\n",
        "    passwd = input(\"Enter the password: \")\n",
        "    if not re.search('[a-z]', passwd):\n",
        "      flag = 1\n",
        "    if not re.search('[0-9]', passwd):\n",
        "      flag = 1\n",
        "    if not re.search('[A-Z]', passwd):\n",
        "      flag = 1\n",
        "    if not re.search('[$@#!]', passwd):\n",
        "      flag = 1\n",
        "    if len(passwd)<6:\n",
        "      flag = 1\n",
        "\n",
        "    if (flag == 0):\n",
        "      print(\"Password is valid\")\n",
        "      print(\"Registration is Successful! \")\n",
        "    else:\n",
        "      print(\"Password is invalid\")\n",
        "      print(\"Registration failed\")\n",
        "\n",
        "\n",
        "def login():\n",
        "  email=input(\"Please enter email: \")\n",
        "  passwd=input(\"Please enter the password: \")\n",
        "  with open(\"users.csv\",mode=\"r\") as f:\n",
        "    reader=csv.reader(f,delimiter=\",\")\n",
        "    for row in reader:\n",
        "      if row==[email,passwd]:\n",
        "        print(\"You are logged in!\")\n",
        "        return True\n",
        "\n",
        "        \n",
        "  print(\"Please try again\")\n",
        "  return False\n",
        "    \n",
        "        \n",
        "\n",
        "\n",
        "register()\n",
        "login()"
      ]
    }
  ]
}